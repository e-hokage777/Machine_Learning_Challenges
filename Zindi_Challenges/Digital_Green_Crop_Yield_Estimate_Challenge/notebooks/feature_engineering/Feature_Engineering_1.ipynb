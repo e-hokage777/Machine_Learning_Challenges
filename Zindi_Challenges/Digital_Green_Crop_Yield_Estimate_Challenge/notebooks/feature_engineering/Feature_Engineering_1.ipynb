{
 "cells": [
  {
   "cell_type": "code",
   "execution_count": 45,
   "id": "f3610918",
   "metadata": {},
   "outputs": [],
   "source": [
    "import pandas as pd\n",
    "import numpy as np\n",
    "import matplotlib.pyplot as plt\n",
    "import seaborn as sns\n",
    "\n",
    "from sklearn.linear_model import LinearRegression\n",
    "from sklearn.model_selection import cross_val_score, KFold, GridSearchCV\n",
    "from sklearn.preprocessing import StandardScaler\n",
    "from sklearn.svm import SVR\n",
    "import xgboost"
   ]
  },
  {
   "cell_type": "code",
   "execution_count": 51,
   "id": "52608016",
   "metadata": {},
   "outputs": [],
   "source": [
    "train = pd.read_csv(\"../../data/train.csv\")\n",
    "test = pd.read_csv(\"../../data/test.csv\")\n",
    "var_desc = pd.read_csv(\"../../data/variabledescription.csv\")"
   ]
  },
  {
   "cell_type": "code",
   "execution_count": 56,
   "id": "6b058e4d",
   "metadata": {},
   "outputs": [],
   "source": [
    "## Functions to preprocess dataframes\n",
    "    \n",
    "## Function to fill missing values with given model\n",
    "def predict_with_model(df, target, feats, model):\n",
    "    cols_to_use = feats.copy()\n",
    "    cols_to_use.append(target)\n",
    "    temp = df[df[cols_to_use].notna().product(1).astype(bool)][cols_to_use]\n",
    "    X = temp[feats]\n",
    "    scaler = StandardScaler()\n",
    "    X = scaler.fit_transform(X)\n",
    "    y = temp[target]\n",
    "    model.fit(X,y)\n",
    "#     res = cross_val_score(SVR(C=5), X, y, cv=kf, scoring=\"r2\")\n",
    "#     return res.mean()\n",
    "    to_pred_bool = (df[feats].notna().product(1) & df[target].isna())\n",
    "    df.loc[to_pred_bool, target] = model.predict(scaler.transform(df.loc[to_pred_bool][feats])) \n",
    "    \n",
    "    \n",
    "####### FILLING FUNCTION ############\n",
    "## Function to fill missing in categorical columns\n",
    "def fill_missing_cat(df, *col_val_pairs):\n",
    "    for pair in col_val_pairs:\n",
    "        df[pair[0]].fillna(pair[1], inplace=True)\n",
    "\n",
    "## Function to fill missing in numeric columns with fixed value \n",
    "def fill_missing_num_with_val(df, *col_val_pairs):\n",
    "    for pair in col_val_pairs:\n",
    "        df[pair[0]].fillna(pair[1], inplace=True)\n",
    "        \n",
    "        \n",
    "## Function to fill missing with median\n",
    "def fill_with_median(df, *cols):\n",
    "    for col in cols:\n",
    "        df[col].fillna(np.median(df[df[col].notna()][col]), inplace=True)\n",
    "\n",
    "        \n",
    "####### NEW FEATURE FUNCTIONS ############\n",
    "## Function to create between feature\n",
    "def add_days_between(df, begin, end, name):\n",
    "    df[name] = (pd.to_datetime(df[end]) - pd.to_datetime(df[begin])).dt.days.fillna(0)\n",
    "\n",
    "        \n",
    "## function to process dataframes\n",
    "def process_df(df):\n",
    "    df = df.copy()\n",
    "    ## filling missing categorical features\n",
    "    fill_missing_cat(df,\n",
    "                     (\"NursDetFactor\", \"None\"),\n",
    "                     (\"TransDetFactor\", \"None\"),\n",
    "                     (\"TransplantingIrrigationPowerSource\", \"Manual\"),\n",
    "                     (\"OrgFertilizers\", \"None\"),\n",
    "                     (\"CropbasalFerts\", \"Unknown\"),\n",
    "                     (\"TransplantingIrrigationSource\", \"Unknown\"),\n",
    "                     (\"PCropSolidOrgFertAppMethod\", \"None_applied\")\n",
    "                    )\n",
    "    ## filling missing numeric values with fixed number\n",
    "    fill_missing_num_with_val(df,\n",
    "                              (\"StandingWater\", 0),\n",
    "                              (\"CropOrgFYM\", 0),\n",
    "                              (\"2appDaysUrea\", 0)\n",
    "                             )\n",
    "    \n",
    "    ## fill missing with model\n",
    "    predict_with_model(df, \"1tdUrea\", [\"Acre\", \"BasalDAP\", \"BasalUrea\", \"CultLand\", \"CropCultLand\"], LinearRegression())\n",
    "    predict_with_model(df, \"2tdUrea\", [\"1tdUrea\", \"Acre\", \"BasalDAP\"], SVR(C=20))\n",
    "    predict_with_model(df, \"BasalDAP\", [\"1tdUrea\", \"Acre\"], SVR(C=15))\n",
    "    predict_with_model(df, \"BasalUrea\", [\"BasalDAP\", \"1tdUrea\", \"2tdUrea\"], LinearRegression())\n",
    "    \n",
    "    ## filling some missing values with median\n",
    "    fill_with_median(df, \"SeedlingsPerPit\", \"TransplantingIrrigationHours\", \"TransIrriCost\", \"1tdUrea\", \"2tdUrea\", \"BasalDAP\",\n",
    "                    \"1appDaysUrea\", \"BasalUrea\")\n",
    "    \n",
    "    ## feature generation side\n",
    "    ## adding days between feaures\n",
    "    add_days_between(df, \"RcNursEstDate\", \"SeedingSowingTransplanting\", \"NursToTransDays\")\n",
    "    \n",
    "    \n",
    "    ## dropping columns\n",
    "    cols_to_drop = [\"RcNursEstDate\", \"Ganaura\", \"2appDaysUrea\"]\n",
    "    df.drop(cols_to_drop, axis=1, inplace=True)\n",
    "    \n",
    "    \n",
    "    return df"
   ]
  },
  {
   "cell_type": "code",
   "execution_count": 53,
   "id": "cfc6efe0",
   "metadata": {},
   "outputs": [
    {
     "data": {
      "text/html": [
       "<div>\n",
       "<style scoped>\n",
       "    .dataframe tbody tr th:only-of-type {\n",
       "        vertical-align: middle;\n",
       "    }\n",
       "\n",
       "    .dataframe tbody tr th {\n",
       "        vertical-align: top;\n",
       "    }\n",
       "\n",
       "    .dataframe thead th {\n",
       "        text-align: right;\n",
       "    }\n",
       "</style>\n",
       "<table border=\"1\" class=\"dataframe\">\n",
       "  <thead>\n",
       "    <tr style=\"text-align: right;\">\n",
       "      <th></th>\n",
       "      <th>NursDetFactor</th>\n",
       "      <th>TransDetFactor</th>\n",
       "      <th>TransplantingIrrigationSource</th>\n",
       "      <th>StandingWater</th>\n",
       "      <th>NursToTransDays</th>\n",
       "    </tr>\n",
       "  </thead>\n",
       "  <tbody>\n",
       "    <tr>\n",
       "      <th>0</th>\n",
       "      <td>CalendarDate IrrigWaterAvailability SeedAvaila...</td>\n",
       "      <td>CalendarDate SeedlingAge RainArrival IrrigWate...</td>\n",
       "      <td>Boring</td>\n",
       "      <td>2.0</td>\n",
       "      <td>24.0</td>\n",
       "    </tr>\n",
       "    <tr>\n",
       "      <th>1</th>\n",
       "      <td>CalendarDate PreMonsoonShowers IrrigWaterAvail...</td>\n",
       "      <td>CalendarDate SeedlingAge RainArrival IrrigWate...</td>\n",
       "      <td>Boring</td>\n",
       "      <td>3.0</td>\n",
       "      <td>30.0</td>\n",
       "    </tr>\n",
       "    <tr>\n",
       "      <th>2</th>\n",
       "      <td>PreMonsoonShowers IrrigWaterAvailability Labou...</td>\n",
       "      <td>SeedlingAge IrrigWaterAvailability LaborAvaila...</td>\n",
       "      <td>Boring</td>\n",
       "      <td>2.0</td>\n",
       "      <td>54.0</td>\n",
       "    </tr>\n",
       "    <tr>\n",
       "      <th>3</th>\n",
       "      <td>CalendarDate PreMonsoonShowers IrrigWaterAvail...</td>\n",
       "      <td>CalendarDate SeedlingAge RainArrival IrrigWate...</td>\n",
       "      <td>Unknown</td>\n",
       "      <td>0.0</td>\n",
       "      <td>30.0</td>\n",
       "    </tr>\n",
       "    <tr>\n",
       "      <th>4</th>\n",
       "      <td>CalendarDate IrrigWaterAvailability SeedAvaila...</td>\n",
       "      <td>SeedlingAge RainArrival IrrigWaterAvailability...</td>\n",
       "      <td>Boring</td>\n",
       "      <td>2.0</td>\n",
       "      <td>29.0</td>\n",
       "    </tr>\n",
       "    <tr>\n",
       "      <th>...</th>\n",
       "      <td>...</td>\n",
       "      <td>...</td>\n",
       "      <td>...</td>\n",
       "      <td>...</td>\n",
       "      <td>...</td>\n",
       "    </tr>\n",
       "    <tr>\n",
       "      <th>3865</th>\n",
       "      <td>None</td>\n",
       "      <td>None</td>\n",
       "      <td>Boring</td>\n",
       "      <td>5.0</td>\n",
       "      <td>17.0</td>\n",
       "    </tr>\n",
       "    <tr>\n",
       "      <th>3866</th>\n",
       "      <td>IrrigWaterAvailability LabourAvailability</td>\n",
       "      <td>IrrigWaterAvailability LaborAvailability</td>\n",
       "      <td>Boring</td>\n",
       "      <td>3.0</td>\n",
       "      <td>22.0</td>\n",
       "    </tr>\n",
       "    <tr>\n",
       "      <th>3867</th>\n",
       "      <td>CalendarDate IrrigWaterAvailability</td>\n",
       "      <td>CalendarDate IrrigWaterAvailability</td>\n",
       "      <td>Boring</td>\n",
       "      <td>5.0</td>\n",
       "      <td>23.0</td>\n",
       "    </tr>\n",
       "    <tr>\n",
       "      <th>3868</th>\n",
       "      <td>SeedAvailability IrrigWaterAvailability</td>\n",
       "      <td>IrrigWaterAvailability RainArrival SeedlingAge</td>\n",
       "      <td>Canal</td>\n",
       "      <td>9.0</td>\n",
       "      <td>26.0</td>\n",
       "    </tr>\n",
       "    <tr>\n",
       "      <th>3869</th>\n",
       "      <td>PreMonsoonShowers IrrigWaterAvailability</td>\n",
       "      <td>SeedlingAge RainArrival</td>\n",
       "      <td>Boring</td>\n",
       "      <td>2.0</td>\n",
       "      <td>33.0</td>\n",
       "    </tr>\n",
       "  </tbody>\n",
       "</table>\n",
       "<p>3870 rows × 5 columns</p>\n",
       "</div>"
      ],
      "text/plain": [
       "                                          NursDetFactor  \\\n",
       "0     CalendarDate IrrigWaterAvailability SeedAvaila...   \n",
       "1     CalendarDate PreMonsoonShowers IrrigWaterAvail...   \n",
       "2     PreMonsoonShowers IrrigWaterAvailability Labou...   \n",
       "3     CalendarDate PreMonsoonShowers IrrigWaterAvail...   \n",
       "4     CalendarDate IrrigWaterAvailability SeedAvaila...   \n",
       "...                                                 ...   \n",
       "3865                                               None   \n",
       "3866          IrrigWaterAvailability LabourAvailability   \n",
       "3867                CalendarDate IrrigWaterAvailability   \n",
       "3868            SeedAvailability IrrigWaterAvailability   \n",
       "3869           PreMonsoonShowers IrrigWaterAvailability   \n",
       "\n",
       "                                         TransDetFactor  \\\n",
       "0     CalendarDate SeedlingAge RainArrival IrrigWate...   \n",
       "1     CalendarDate SeedlingAge RainArrival IrrigWate...   \n",
       "2     SeedlingAge IrrigWaterAvailability LaborAvaila...   \n",
       "3     CalendarDate SeedlingAge RainArrival IrrigWate...   \n",
       "4     SeedlingAge RainArrival IrrigWaterAvailability...   \n",
       "...                                                 ...   \n",
       "3865                                               None   \n",
       "3866           IrrigWaterAvailability LaborAvailability   \n",
       "3867                CalendarDate IrrigWaterAvailability   \n",
       "3868     IrrigWaterAvailability RainArrival SeedlingAge   \n",
       "3869                            SeedlingAge RainArrival   \n",
       "\n",
       "     TransplantingIrrigationSource  StandingWater  NursToTransDays  \n",
       "0                           Boring            2.0             24.0  \n",
       "1                           Boring            3.0             30.0  \n",
       "2                           Boring            2.0             54.0  \n",
       "3                          Unknown            0.0             30.0  \n",
       "4                           Boring            2.0             29.0  \n",
       "...                            ...            ...              ...  \n",
       "3865                        Boring            5.0             17.0  \n",
       "3866                        Boring            3.0             22.0  \n",
       "3867                        Boring            5.0             23.0  \n",
       "3868                         Canal            9.0             26.0  \n",
       "3869                        Boring            2.0             33.0  \n",
       "\n",
       "[3870 rows x 5 columns]"
      ]
     },
     "execution_count": 53,
     "metadata": {},
     "output_type": "execute_result"
    }
   ],
   "source": [
    "train_processed = process_df(train)\n",
    "train_processed[[\"NursDetFactor\", \"TransDetFactor\", \"TransplantingIrrigationSource\", \"StandingWater\",\"NursToTransDays\"]]"
   ]
  },
  {
   "cell_type": "code",
   "execution_count": 54,
   "id": "db6d4444",
   "metadata": {},
   "outputs": [
    {
     "data": {
      "text/plain": [
       "ID                                       0\n",
       "District                                 0\n",
       "Block                                    0\n",
       "CultLand                                 0\n",
       "CropCultLand                             0\n",
       "LandPreparationMethod                    0\n",
       "CropTillageDate                          0\n",
       "CropTillageDepth                         0\n",
       "CropEstMethod                            0\n",
       "SeedingSowingTransplanting               0\n",
       "SeedlingsPerPit                          0\n",
       "NursDetFactor                            0\n",
       "TransDetFactor                           0\n",
       "TransplantingIrrigationHours             0\n",
       "TransplantingIrrigationSource            0\n",
       "TransplantingIrrigationPowerSource       0\n",
       "TransIrriCost                            0\n",
       "StandingWater                            0\n",
       "OrgFertilizers                           0\n",
       "CropOrgFYM                               0\n",
       "PCropSolidOrgFertAppMethod            1337\n",
       "NoFertilizerAppln                        0\n",
       "CropbasalFerts                           0\n",
       "BasalDAP                                 0\n",
       "BasalUrea                                0\n",
       "MineralFertAppMethod                     0\n",
       "FirstTopDressFert                      485\n",
       "1tdUrea                                  0\n",
       "1appDaysUrea                             0\n",
       "2tdUrea                                  0\n",
       "MineralFertAppMethod.1                 481\n",
       "Harv_method                              0\n",
       "Harv_date                                0\n",
       "Harv_hand_rent                         252\n",
       "Threshing_date                           0\n",
       "Threshing_method                         0\n",
       "Residue_length                           0\n",
       "Residue_perc                             0\n",
       "Stubble_use                              0\n",
       "Acre                                     0\n",
       "Yield                                    0\n",
       "NursToTransDays                          0\n",
       "dtype: int64"
      ]
     },
     "execution_count": 54,
     "metadata": {},
     "output_type": "execute_result"
    }
   ],
   "source": [
    "train_processed.isna().sum()"
   ]
  },
  {
   "cell_type": "code",
   "execution_count": null,
   "id": "2955aefa",
   "metadata": {},
   "outputs": [],
   "source": []
  },
  {
   "cell_type": "code",
   "execution_count": 50,
   "id": "32b39281",
   "metadata": {},
   "outputs": [
    {
     "data": {
      "text/plain": [
       "<seaborn.axisgrid.FacetGrid at 0x13855f6b2b0>"
      ]
     },
     "execution_count": 50,
     "metadata": {},
     "output_type": "execute_result"
    },
    {
     "data": {
      "image/png": "[encoded data removed]",
      "text/plain": [
       "<Figure size 360x360 with 1 Axes>"
      ]
     },
     "metadata": {
      "needs_background": "light"
     },
     "output_type": "display_data"
    }
   ],
   "source": [
    "sns.displot(train_processed[\"BasalUrea\"], kind=\"kde\")"
   ]
  },
  {
   "cell_type": "code",
   "execution_count": 42,
   "id": "f40d2651",
   "metadata": {},
   "outputs": [],
   "source": [
    "rs = 132\n",
    "kf = KFold(n_splits = 5, shuffle=True, random_state=rs)"
   ]
  },
  {
   "cell_type": "code",
   "execution_count": 43,
   "id": "8c30b5e9",
   "metadata": {},
   "outputs": [],
   "source": [
    "## training model for `TransIrriCost`\n",
    "temp_target = \"BasalUrea\"\n",
    "cols_to_use = [\"BasalDAP\", \"1tdUrea\", \"2tdUrea\", temp_target]\n",
    "temp = [train[cols_to_use].notna().product(1).astype(bool)][cols_to_use]\n",
    "temp_X = temp[cols_to_use[:-1]]\n",
    "## standard scaling\n",
    "temp_X = StandardScaler().fit_transform(temp_X)\n",
    "temp_y = temp[temp_target]"
   ]
  },
  {
   "cell_type": "code",
   "execution_count": 44,
   "id": "d72f2653",
   "metadata": {},
   "outputs": [
    {
     "data": {
      "text/plain": [
       "0.9342932696026536"
      ]
     },
     "execution_count": 44,
     "metadata": {},
     "output_type": "execute_result"
    }
   ],
   "source": [
    "res = cross_val_score(LinearRegression(), temp_X, temp_y, cv=kf, scoring=\"r2\")\n",
    "res.mean()"
   ]
  },
  {
   "cell_type": "code",
   "execution_count": null,
   "id": "ae8eb280",
   "metadata": {},
   "outputs": [],
   "source": [
    "temp_params = {\n",
    "    \"n_estimators\": [100, 500, 1000],\n",
    "    \"learning_rate\": [0.01, 0.005, 0.001],\n",
    "    \"max_depth\": [2,4,6,8]\n",
    "}\n",
    "temp_grid = GridSearchCV(xgboost.XGBRegressor(), temp_params, cv = kf, scoring=\"r2\")\n",
    "temp_grid.fit(temp_X, temp_y)"
   ]
  },
  {
   "cell_type": "code",
   "execution_count": 340,
   "id": "5476fb1b",
   "metadata": {},
   "outputs": [
    {
     "name": "stdout",
     "output_type": "stream",
     "text": [
      "0.9291422485980704\n",
      "{'learning_rate': 0.01, 'max_depth': 4, 'n_estimators': 500}\n"
     ]
    }
   ],
   "source": [
    "print(temp_grid.best_score_)\n",
    "print(temp_grid.best_params_)"
   ]
  },
  {
   "cell_type": "code",
   "execution_count": 477,
   "id": "72107fd6",
   "metadata": {},
   "outputs": [],
   "source": [
    "# predict_with_model(train, \"1tdUrea\", [\"Acre\", \"BasalDAP\", \"BasalUrea\", \"CultLand\", \"CropCultLand\"], LinearRegression())"
   ]
  },
  {
   "cell_type": "code",
   "execution_count": 478,
   "id": "677522e6",
   "metadata": {},
   "outputs": [
    {
     "data": {
      "text/plain": [
       "224"
      ]
     },
     "execution_count": 478,
     "metadata": {},
     "output_type": "execute_result"
    }
   ],
   "source": [
    "train[\"1tdUrea\"].isna().sum()"
   ]
  },
  {
   "cell_type": "code",
   "execution_count": 559,
   "id": "c0e92b80",
   "metadata": {},
   "outputs": [
    {
     "data": {
      "text/plain": [
       "400"
      ]
     },
     "execution_count": 559,
     "metadata": {},
     "output_type": "execute_result"
    }
   ],
   "source": [
    "(train[[\"1tdUrea\", \"Acre\"]].notna().product(1) & train[\"BasalDAP\"].isna()).sum()"
   ]
  },
  {
   "cell_type": "code",
   "execution_count": 41,
   "id": "930d77d2",
   "metadata": {},
   "outputs": [
    {
     "data": {
      "text/plain": [
       "2166"
      ]
     },
     "execution_count": 41,
     "metadata": {},
     "output_type": "execute_result"
    }
   ],
   "source": [
    "train[[\"BasalUrea\", \"BasalDAP\", \"1tdUrea\"]].notna().product(1).sum()"
   ]
  }
 ],
 "metadata": {
  "kernelspec": {
   "display_name": "Python 3 (ipykernel)",
   "language": "python",
   "name": "python3"
  },
  "language_info": {
   "codemirror_mode": {
    "name": "ipython",
    "version": 3
   },
   "file_extension": ".py",
   "mimetype": "text/x-python",
   "name": "python",
   "nbconvert_exporter": "python",
   "pygments_lexer": "ipython3",
   "version": "3.10.0"
  }
 },
 "nbformat": 4,
 "nbformat_minor": 5
}
