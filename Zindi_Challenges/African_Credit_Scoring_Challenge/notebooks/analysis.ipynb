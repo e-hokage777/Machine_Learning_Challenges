{
 "cells": [
  {
   "cell_type": "markdown",
   "id": "f73084ea-af1f-4e69-8fe8-7a9a3f82a5cf",
   "metadata": {},
   "source": [
    "# African Credit Score Prediction Challenge\n",
    "\n",
    "\n",
    "## Prompt:\n",
    "Financial institutions need to predict loan defaults to mitigate risk and optimise lending decisions. In Africa’s rapidly growing financial markets, with diverse customer demographics and dynamic economic conditions, accurately assessing default risk is more important than ever.\n",
    "\n",
    "In this challenge, we want you to develop a robust, generalisable machine learning model to `predict the likelihood of loan defaults for both existing customers and new applicants.` Beyond accurate predictions, `we encourage yous to innovate by incorporating unique factors relevant to each financial market`.\n",
    "\n",
    "The objective of this challenge is to develop a machine learning model that accurately `predicts the probability of loan default.`\n",
    "\n",
    "The top 10 winners, in addition to submitting their solution, `will need to design and submit a credit scoring function, using their model's outputs and probabilities. This step involves binning model outputs into risk categories and proposing a scalable credit risk score.`\n",
    "\n",
    "By accurately predicting loan defaults, your work will enable the client organisation to create a credit scoring solution to evaluate risk more effectively, improving decision-making, reducing financial losses associated with high-risk lending, and allowing for expansion into new financial markets.\n",
    "The challenge provider is a private asset manager that operates in several financial markets across Africa.\n",
    "\n",
    "\n",
    "### Points\n",
    "- Predict likelihoold of loan default for new and existing applicants\n",
    "- Incorporate unique factors relevant to each financial market (**Kenya and Ghana ??**)\n",
    "- Credit scoring function (**probability of default**)\n",
    "- Kenya (train and test set) and Ghana (test set)"
   ]
  },
  {
   "cell_type": "markdown",
   "id": "4dfa5697-4e04-4f87-96b3-84f8138d2797",
   "metadata": {},
   "source": [
    "## About Data\n",
    "\n",
    "You will work with loan and customer data from Kenya (train and test set) and Ghana (test set). This split emphasises the need for models that generalise well, i.e. perform well across different countries and financial contexts.\n",
    "\n",
    "You will notice that a customer ID can appear in multiple rows of the dataset, and for a given customer, a loan ID can also appear with different lender IDs. For example, we can have the same customer ID on three rows with the same loan ID on each but a different lender ID. This observation means that the loan is funded by three separate lenders.\n",
    "\n",
    "Additional data pulled from the Federal Reserve Economic Data (FRED) portal are provided to enrich model performance and offer insights into features that impact on credit scoring.\n",
    "\n",
    "The economic indicators are:\n",
    "\n",
    "FP.CPI.TOTL.ZG: Inflation, consumer prices (annual %)<br/>\n",
    "PA.NUS.FCRF: Official exchange rate (LCU per US$, period average) <br/>\n",
    "FR.INR.RINR: Real interest rate (%)<br/>\n",
    "AG.LND.PRCP.MM: Average precipitation in depth (mm per year)<br/>\n",
    "FR.INR.DPST: Deposit interest rate (%)<br/>\n",
    "FP.INR.LEND: Lending interest rate (%)<br/>\n",
    "FR.INR.LNDP: Interest rate spread (lending rate minus deposit rate, %<br/>\n",
    "EG.USE.COMM.FO.ZS: Fossil fuel energy consumption (% of total)<br/>\n",
    "SL.UEM.TOTL.ZS: Unemployment rate\n",
    "\n",
    "The data downloaded from FRED is saved in a separate CSV in the data section.\n",
    "\n",
    "## Description of variables in Train/Test.csv\n",
    "\n",
    "0. **ID**: A unique identifier for each entry in the dataset.\n",
    "\n",
    "1. **customer_id**: Unique identifier for each customer in the dataset.\n",
    "\n",
    "2. **country_id**: Identifier or code representing the `country where the customer resides or where the loan was issued`.\n",
    "\n",
    "3. **tbl_loan_id**: Unique identifier for each loan associated with the customer.\n",
    "\n",
    "4. **Total_Amount**: The total loan amount initially disbursed to the customer.\n",
    "\n",
    "5. **Total_Amount_to_Repay**: The total amount the customer is expected to repay, including principal, interest, and fees.\n",
    "\n",
    "6. **loan_type**: The category or type of loan.\n",
    "\n",
    "7. **disbursement_date**: The date when the loan amount was disbursed to the customer.\n",
    "\n",
    "8. **duration**: The length of the loan term, typically expressed in days\n",
    "\n",
    "9. **lender_id**: Unique identifier for the lender or institution that issued the loan.\n",
    "\n",
    "10. **New_versus_Repeat**: Indicates whether the loan is the customer's first loan (\"New\") or if the customer has taken loans before (\"Repeat\").\n",
    "\n",
    "11. **Amount_Funded_By_Lender**: The portion of the loan funded directly by the lender.\n",
    "\n",
    "12. **Lender_portion_Funded**: Percentage of the total loan amount funded by the lender.\n",
    "\n",
    "13. **due_date**: The date by which the loan repayment is due.\n",
    "\n",
    "14. **Lender_portion_to_be_repaid**: The portion of the outstanding loan that needs to be repaid to the lender.\n",
    "\n",
    "15. **target**: This variables takes the value 0 or 1. 1 means the customer defaulted on the loan, whereas 0 means, the customer paid the loan.\n",
    "\n",
    "### Points:\n",
    "- Customer data from `Kenya (train and test set)` and Ghana `(test set)`\n",
    "- We can have the same customer ID on three rows with the same loan ID on each but a different lender ID.\n",
    "- Additional data pulled from the Federal Reserve Economic Data (FRED) portal"
   ]
  },
  {
   "cell_type": "markdown",
   "id": "3f0dd2ce-47b3-4f4a-b554-b5fa6b4a094c",
   "metadata": {},
   "source": [
    "### Possible New Features\n",
    "- Number of lenders per loan\n",
    "- Number of loans\n",
    "- You are welcome to enrich the dataset with economic data sourced from the Federal Reserve Bank on the countries of interest.\n",
    "- Interest rate (Total_Amount_to_Repay - Total_Amount)\n",
    "- Lender popularity (frequency of given **lender_id** in data)"
   ]
  },
  {
   "cell_type": "markdown",
   "id": "d1d28312-ff19-4a05-8328-d1e435e3d58b",
   "metadata": {},
   "source": [
    "## Global Constants"
   ]
  },
  {
   "cell_type": "code",
   "execution_count": 1,
   "id": "d2ce1f9b-b035-473e-8c81-8573ea353720",
   "metadata": {},
   "outputs": [],
   "source": [
    "import os"
   ]
  },
  {
   "cell_type": "code",
   "execution_count": 2,
   "id": "a29daebc-bf37-4771-9e93-07c44d5bfcce",
   "metadata": {},
   "outputs": [],
   "source": [
    "DATA_PATH = \"../data\"\n",
    "TRAIN_PATH = os.path.join(DATA_PATH, \"Train.csv\")\n",
    "TEST_PATH = os.path.join(DATA_PATH, \"Test.csv\")\n",
    "ECONOMIC_INDICATORS_PATH = os.path.join(DATA_PATH, \"economic_indicators.csv\")\n",
    "SAMPLE_SUB_PATH = os.path.join(DATA_PATH, \"SampleSubmission.csv\")\n",
    "SUBMISSION_PATH = \"../submissions/\""
   ]
  },
  {
   "cell_type": "markdown",
   "id": "192fa7ec-521b-4710-8bdf-e5b5ae13001f",
   "metadata": {},
   "source": [
    "# Inspection\n",
    "Familiarizing with submission data"
   ]
  },
  {
   "cell_type": "code",
   "execution_count": 3,
   "id": "0306515e-c0d0-4833-b7a0-05fd11ef2b8e",
   "metadata": {},
   "outputs": [],
   "source": [
    "## imports\n",
    "import pandas as pd"
   ]
  },
  {
   "cell_type": "markdown",
   "id": "910f9b95-5808-44ca-ac77-3839842dc605",
   "metadata": {},
   "source": [
    "### Sample Submission"
   ]
  },
  {
   "cell_type": "markdown",
   "id": "578cfc9a-9e73-4f92-ab1f-cd7841163565",
   "metadata": {},
   "source": [
    "##### NOTES:\n",
    "- Entries within submission are not unique to applicants (i.e. multiple entries can have the same customer_id)"
   ]
  },
  {
   "cell_type": "code",
   "execution_count": 4,
   "id": "538ab939-04a6-4dc6-b6eb-874eeac0882f",
   "metadata": {},
   "outputs": [
    {
     "data": {
      "text/html": [
       "<div>\n",
       "<style scoped>\n",
       "    .dataframe tbody tr th:only-of-type {\n",
       "        vertical-align: middle;\n",
       "    }\n",
       "\n",
       "    .dataframe tbody tr th {\n",
       "        vertical-align: top;\n",
       "    }\n",
       "\n",
       "    .dataframe thead th {\n",
       "        text-align: right;\n",
       "    }\n",
       "</style>\n",
       "<table border=\"1\" class=\"dataframe\">\n",
       "  <thead>\n",
       "    <tr style=\"text-align: right;\">\n",
       "      <th></th>\n",
       "      <th>ID</th>\n",
       "      <th>target</th>\n",
       "    </tr>\n",
       "  </thead>\n",
       "  <tbody>\n",
       "    <tr>\n",
       "      <th>0</th>\n",
       "      <td>ID_269404226088267278</td>\n",
       "      <td>0</td>\n",
       "    </tr>\n",
       "    <tr>\n",
       "      <th>1</th>\n",
       "      <td>ID_255356300042267278</td>\n",
       "      <td>0</td>\n",
       "    </tr>\n",
       "    <tr>\n",
       "      <th>2</th>\n",
       "      <td>ID_257026243764267278</td>\n",
       "      <td>0</td>\n",
       "    </tr>\n",
       "    <tr>\n",
       "      <th>3</th>\n",
       "      <td>ID_264617299409267278</td>\n",
       "      <td>0</td>\n",
       "    </tr>\n",
       "    <tr>\n",
       "      <th>4</th>\n",
       "      <td>ID_247613296713267278</td>\n",
       "      <td>0</td>\n",
       "    </tr>\n",
       "  </tbody>\n",
       "</table>\n",
       "</div>"
      ],
      "text/plain": [
       "                      ID  target\n",
       "0  ID_269404226088267278       0\n",
       "1  ID_255356300042267278       0\n",
       "2  ID_257026243764267278       0\n",
       "3  ID_264617299409267278       0\n",
       "4  ID_247613296713267278       0"
      ]
     },
     "execution_count": 4,
     "metadata": {},
     "output_type": "execute_result"
    }
   ],
   "source": [
    "sample_submission_df = pd.read_csv(SAMPLE_SUB_PATH)\n",
    "sample_submission_df.head()"
   ]
  },
  {
   "cell_type": "code",
   "execution_count": 5,
   "id": "16189e02-164a-4aa8-8c84-e5a608a66ed6",
   "metadata": {},
   "outputs": [
    {
     "name": "stdout",
     "output_type": "stream",
     "text": [
      "Number of entries: 18594\n",
      "Number of unique applicants 18594\n"
     ]
    }
   ],
   "source": [
    "print(\"Number of entries:\", sample_submission_df.shape[0])\n",
    "print(\"Number of unique applicants\", len(sample_submission_df.ID.unique()))"
   ]
  },
  {
   "cell_type": "markdown",
   "id": "4851d76f-9728-48f8-9224-9f93589cf891",
   "metadata": {},
   "source": [
    "### Test Data"
   ]
  },
  {
   "cell_type": "markdown",
   "id": "754d02f0-a029-48cf-ae42-d04f164ffadc",
   "metadata": {},
   "source": [
    "##### Notes:\n",
    "- Test set reveals that prediction is done per entry and not per customer."
   ]
  },
  {
   "cell_type": "code",
   "execution_count": 6,
   "id": "58063be7-08e7-4cf4-998a-0e09522a1ad0",
   "metadata": {},
   "outputs": [
    {
     "data": {
      "text/html": [
       "<div>\n",
       "<style scoped>\n",
       "    .dataframe tbody tr th:only-of-type {\n",
       "        vertical-align: middle;\n",
       "    }\n",
       "\n",
       "    .dataframe tbody tr th {\n",
       "        vertical-align: top;\n",
       "    }\n",
       "\n",
       "    .dataframe thead th {\n",
       "        text-align: right;\n",
       "    }\n",
       "</style>\n",
       "<table border=\"1\" class=\"dataframe\">\n",
       "  <thead>\n",
       "    <tr style=\"text-align: right;\">\n",
       "      <th></th>\n",
       "      <th>ID</th>\n",
       "      <th>customer_id</th>\n",
       "      <th>country_id</th>\n",
       "      <th>tbl_loan_id</th>\n",
       "      <th>lender_id</th>\n",
       "      <th>loan_type</th>\n",
       "      <th>Total_Amount</th>\n",
       "      <th>Total_Amount_to_Repay</th>\n",
       "      <th>disbursement_date</th>\n",
       "      <th>due_date</th>\n",
       "      <th>duration</th>\n",
       "      <th>New_versus_Repeat</th>\n",
       "      <th>Amount_Funded_By_Lender</th>\n",
       "      <th>Lender_portion_Funded</th>\n",
       "      <th>Lender_portion_to_be_repaid</th>\n",
       "    </tr>\n",
       "  </thead>\n",
       "  <tbody>\n",
       "    <tr>\n",
       "      <th>0</th>\n",
       "      <td>ID_269404226088267278</td>\n",
       "      <td>269404</td>\n",
       "      <td>Kenya</td>\n",
       "      <td>226088</td>\n",
       "      <td>267278</td>\n",
       "      <td>Type_1</td>\n",
       "      <td>1919.0</td>\n",
       "      <td>1989.0</td>\n",
       "      <td>2022-07-27</td>\n",
       "      <td>2022-08-03</td>\n",
       "      <td>7</td>\n",
       "      <td>Repeat Loan</td>\n",
       "      <td>575.7</td>\n",
       "      <td>0.300000</td>\n",
       "      <td>597.0</td>\n",
       "    </tr>\n",
       "    <tr>\n",
       "      <th>1</th>\n",
       "      <td>ID_255356300042267278</td>\n",
       "      <td>255356</td>\n",
       "      <td>Kenya</td>\n",
       "      <td>300042</td>\n",
       "      <td>267278</td>\n",
       "      <td>Type_1</td>\n",
       "      <td>2138.0</td>\n",
       "      <td>2153.0</td>\n",
       "      <td>2022-11-16</td>\n",
       "      <td>2022-11-23</td>\n",
       "      <td>7</td>\n",
       "      <td>Repeat Loan</td>\n",
       "      <td>0.0</td>\n",
       "      <td>0.000000</td>\n",
       "      <td>0.0</td>\n",
       "    </tr>\n",
       "    <tr>\n",
       "      <th>2</th>\n",
       "      <td>ID_257026243764267278</td>\n",
       "      <td>257026</td>\n",
       "      <td>Kenya</td>\n",
       "      <td>243764</td>\n",
       "      <td>267278</td>\n",
       "      <td>Type_1</td>\n",
       "      <td>8254.0</td>\n",
       "      <td>8304.0</td>\n",
       "      <td>2022-08-24</td>\n",
       "      <td>2022-08-31</td>\n",
       "      <td>7</td>\n",
       "      <td>Repeat Loan</td>\n",
       "      <td>207.0</td>\n",
       "      <td>0.025079</td>\n",
       "      <td>208.0</td>\n",
       "    </tr>\n",
       "    <tr>\n",
       "      <th>3</th>\n",
       "      <td>ID_264617299409267278</td>\n",
       "      <td>264617</td>\n",
       "      <td>Kenya</td>\n",
       "      <td>299409</td>\n",
       "      <td>267278</td>\n",
       "      <td>Type_1</td>\n",
       "      <td>3379.0</td>\n",
       "      <td>3379.0</td>\n",
       "      <td>2022-11-15</td>\n",
       "      <td>2022-11-22</td>\n",
       "      <td>7</td>\n",
       "      <td>Repeat Loan</td>\n",
       "      <td>1013.7</td>\n",
       "      <td>0.300000</td>\n",
       "      <td>1014.0</td>\n",
       "    </tr>\n",
       "    <tr>\n",
       "      <th>4</th>\n",
       "      <td>ID_247613296713267278</td>\n",
       "      <td>247613</td>\n",
       "      <td>Kenya</td>\n",
       "      <td>296713</td>\n",
       "      <td>267278</td>\n",
       "      <td>Type_1</td>\n",
       "      <td>120.0</td>\n",
       "      <td>120.0</td>\n",
       "      <td>2022-11-10</td>\n",
       "      <td>2022-11-17</td>\n",
       "      <td>7</td>\n",
       "      <td>Repeat Loan</td>\n",
       "      <td>36.0</td>\n",
       "      <td>0.300000</td>\n",
       "      <td>36.0</td>\n",
       "    </tr>\n",
       "  </tbody>\n",
       "</table>\n",
       "</div>"
      ],
      "text/plain": [
       "                      ID  customer_id country_id  tbl_loan_id  lender_id  \\\n",
       "0  ID_269404226088267278       269404      Kenya       226088     267278   \n",
       "1  ID_255356300042267278       255356      Kenya       300042     267278   \n",
       "2  ID_257026243764267278       257026      Kenya       243764     267278   \n",
       "3  ID_264617299409267278       264617      Kenya       299409     267278   \n",
       "4  ID_247613296713267278       247613      Kenya       296713     267278   \n",
       "\n",
       "  loan_type  Total_Amount  Total_Amount_to_Repay disbursement_date  \\\n",
       "0    Type_1        1919.0                 1989.0        2022-07-27   \n",
       "1    Type_1        2138.0                 2153.0        2022-11-16   \n",
       "2    Type_1        8254.0                 8304.0        2022-08-24   \n",
       "3    Type_1        3379.0                 3379.0        2022-11-15   \n",
       "4    Type_1         120.0                  120.0        2022-11-10   \n",
       "\n",
       "     due_date  duration New_versus_Repeat  Amount_Funded_By_Lender  \\\n",
       "0  2022-08-03         7       Repeat Loan                    575.7   \n",
       "1  2022-11-23         7       Repeat Loan                      0.0   \n",
       "2  2022-08-31         7       Repeat Loan                    207.0   \n",
       "3  2022-11-22         7       Repeat Loan                   1013.7   \n",
       "4  2022-11-17         7       Repeat Loan                     36.0   \n",
       "\n",
       "   Lender_portion_Funded  Lender_portion_to_be_repaid  \n",
       "0               0.300000                        597.0  \n",
       "1               0.000000                          0.0  \n",
       "2               0.025079                        208.0  \n",
       "3               0.300000                       1014.0  \n",
       "4               0.300000                         36.0  "
      ]
     },
     "execution_count": 6,
     "metadata": {},
     "output_type": "execute_result"
    }
   ],
   "source": [
    "test_df = pd.read_csv(TEST_PATH)\n",
    "test_df.head()"
   ]
  },
  {
   "cell_type": "code",
   "execution_count": 7,
   "id": "20412cef-1f8c-4c13-a4c5-7ceec04bbf0f",
   "metadata": {},
   "outputs": [
    {
     "name": "stdout",
     "output_type": "stream",
     "text": [
      "Number of entries: 18594\n",
      "Number of unique applicants 4962\n"
     ]
    }
   ],
   "source": [
    "print(\"Number of entries:\", test_df.shape[0])\n",
    "print(\"Number of unique applicants\", len(test_df.customer_id.unique()))"
   ]
  },
  {
   "cell_type": "markdown",
   "id": "9832b5ed-0276-4162-85e2-f8d2874484b7",
   "metadata": {},
   "source": [
    "### Economic Indicators"
   ]
  },
  {
   "cell_type": "code",
   "execution_count": 8,
   "id": "419de6b7-cc73-4ce9-8423-b6d3664df730",
   "metadata": {},
   "outputs": [
    {
     "data": {
      "text/html": [
       "<div>\n",
       "<style scoped>\n",
       "    .dataframe tbody tr th:only-of-type {\n",
       "        vertical-align: middle;\n",
       "    }\n",
       "\n",
       "    .dataframe tbody tr th {\n",
       "        vertical-align: top;\n",
       "    }\n",
       "\n",
       "    .dataframe thead th {\n",
       "        text-align: right;\n",
       "    }\n",
       "</style>\n",
       "<table border=\"1\" class=\"dataframe\">\n",
       "  <thead>\n",
       "    <tr style=\"text-align: right;\">\n",
       "      <th></th>\n",
       "      <th>Country</th>\n",
       "      <th>Indicator</th>\n",
       "      <th>YR2001</th>\n",
       "      <th>YR2002</th>\n",
       "      <th>YR2003</th>\n",
       "      <th>YR2004</th>\n",
       "      <th>YR2005</th>\n",
       "      <th>YR2006</th>\n",
       "      <th>YR2007</th>\n",
       "      <th>YR2008</th>\n",
       "      <th>...</th>\n",
       "      <th>YR2014</th>\n",
       "      <th>YR2015</th>\n",
       "      <th>YR2016</th>\n",
       "      <th>YR2017</th>\n",
       "      <th>YR2018</th>\n",
       "      <th>YR2019</th>\n",
       "      <th>YR2020</th>\n",
       "      <th>YR2021</th>\n",
       "      <th>YR2022</th>\n",
       "      <th>YR2023</th>\n",
       "    </tr>\n",
       "  </thead>\n",
       "  <tbody>\n",
       "    <tr>\n",
       "      <th>0</th>\n",
       "      <td>Ghana</td>\n",
       "      <td>Inflation, consumer prices (annual %)</td>\n",
       "      <td>41.509496</td>\n",
       "      <td>9.360932</td>\n",
       "      <td>29.772980</td>\n",
       "      <td>18.042739</td>\n",
       "      <td>15.438992</td>\n",
       "      <td>11.679184</td>\n",
       "      <td>10.734267</td>\n",
       "      <td>16.494640</td>\n",
       "      <td>...</td>\n",
       "      <td>15.489616</td>\n",
       "      <td>17.149970</td>\n",
       "      <td>17.454635</td>\n",
       "      <td>12.371922</td>\n",
       "      <td>7.808765</td>\n",
       "      <td>7.143640</td>\n",
       "      <td>9.887290</td>\n",
       "      <td>9.971089</td>\n",
       "      <td>31.255895</td>\n",
       "      <td>38.106966</td>\n",
       "    </tr>\n",
       "    <tr>\n",
       "      <th>1</th>\n",
       "      <td>Cote d'Ivoire</td>\n",
       "      <td>Inflation, consumer prices (annual %)</td>\n",
       "      <td>4.361529</td>\n",
       "      <td>3.077265</td>\n",
       "      <td>3.296807</td>\n",
       "      <td>1.457988</td>\n",
       "      <td>3.885830</td>\n",
       "      <td>2.467191</td>\n",
       "      <td>1.892006</td>\n",
       "      <td>6.308528</td>\n",
       "      <td>...</td>\n",
       "      <td>0.448682</td>\n",
       "      <td>1.251500</td>\n",
       "      <td>0.723178</td>\n",
       "      <td>0.685881</td>\n",
       "      <td>0.359409</td>\n",
       "      <td>-1.106863</td>\n",
       "      <td>2.425007</td>\n",
       "      <td>4.091952</td>\n",
       "      <td>5.276167</td>\n",
       "      <td>4.387117</td>\n",
       "    </tr>\n",
       "    <tr>\n",
       "      <th>2</th>\n",
       "      <td>Kenya</td>\n",
       "      <td>Inflation, consumer prices (annual %)</td>\n",
       "      <td>5.738598</td>\n",
       "      <td>1.961308</td>\n",
       "      <td>9.815691</td>\n",
       "      <td>11.624036</td>\n",
       "      <td>10.312778</td>\n",
       "      <td>14.453734</td>\n",
       "      <td>9.758880</td>\n",
       "      <td>26.239817</td>\n",
       "      <td>...</td>\n",
       "      <td>6.878155</td>\n",
       "      <td>6.582154</td>\n",
       "      <td>6.297250</td>\n",
       "      <td>8.005650</td>\n",
       "      <td>4.689806</td>\n",
       "      <td>5.239638</td>\n",
       "      <td>5.405162</td>\n",
       "      <td>6.107936</td>\n",
       "      <td>7.659863</td>\n",
       "      <td>7.671396</td>\n",
       "    </tr>\n",
       "    <tr>\n",
       "      <th>3</th>\n",
       "      <td>Ghana</td>\n",
       "      <td>Official exchange rate (LCU per US$, period av...</td>\n",
       "      <td>0.716305</td>\n",
       "      <td>0.792417</td>\n",
       "      <td>0.866764</td>\n",
       "      <td>0.899495</td>\n",
       "      <td>0.905209</td>\n",
       "      <td>0.915107</td>\n",
       "      <td>0.932619</td>\n",
       "      <td>1.052275</td>\n",
       "      <td>...</td>\n",
       "      <td>2.896575</td>\n",
       "      <td>3.714642</td>\n",
       "      <td>3.909817</td>\n",
       "      <td>4.350533</td>\n",
       "      <td>4.585325</td>\n",
       "      <td>5.217367</td>\n",
       "      <td>5.595708</td>\n",
       "      <td>5.805700</td>\n",
       "      <td>8.272400</td>\n",
       "      <td>11.020408</td>\n",
       "    </tr>\n",
       "    <tr>\n",
       "      <th>4</th>\n",
       "      <td>Cote d'Ivoire</td>\n",
       "      <td>Official exchange rate (LCU per US$, period av...</td>\n",
       "      <td>732.397693</td>\n",
       "      <td>693.713226</td>\n",
       "      <td>579.897426</td>\n",
       "      <td>527.338032</td>\n",
       "      <td>527.258363</td>\n",
       "      <td>522.425625</td>\n",
       "      <td>478.633718</td>\n",
       "      <td>446.000041</td>\n",
       "      <td>...</td>\n",
       "      <td>493.757330</td>\n",
       "      <td>591.211698</td>\n",
       "      <td>592.605615</td>\n",
       "      <td>580.656750</td>\n",
       "      <td>555.446458</td>\n",
       "      <td>585.911013</td>\n",
       "      <td>575.586005</td>\n",
       "      <td>554.530675</td>\n",
       "      <td>623.759701</td>\n",
       "      <td>606.569750</td>\n",
       "    </tr>\n",
       "  </tbody>\n",
       "</table>\n",
       "<p>5 rows × 25 columns</p>\n",
       "</div>"
      ],
      "text/plain": [
       "         Country                                          Indicator  \\\n",
       "0          Ghana              Inflation, consumer prices (annual %)   \n",
       "1  Cote d'Ivoire              Inflation, consumer prices (annual %)   \n",
       "2          Kenya              Inflation, consumer prices (annual %)   \n",
       "3          Ghana  Official exchange rate (LCU per US$, period av...   \n",
       "4  Cote d'Ivoire  Official exchange rate (LCU per US$, period av...   \n",
       "\n",
       "       YR2001      YR2002      YR2003      YR2004      YR2005      YR2006  \\\n",
       "0   41.509496    9.360932   29.772980   18.042739   15.438992   11.679184   \n",
       "1    4.361529    3.077265    3.296807    1.457988    3.885830    2.467191   \n",
       "2    5.738598    1.961308    9.815691   11.624036   10.312778   14.453734   \n",
       "3    0.716305    0.792417    0.866764    0.899495    0.905209    0.915107   \n",
       "4  732.397693  693.713226  579.897426  527.338032  527.258363  522.425625   \n",
       "\n",
       "       YR2007      YR2008  ...      YR2014      YR2015      YR2016  \\\n",
       "0   10.734267   16.494640  ...   15.489616   17.149970   17.454635   \n",
       "1    1.892006    6.308528  ...    0.448682    1.251500    0.723178   \n",
       "2    9.758880   26.239817  ...    6.878155    6.582154    6.297250   \n",
       "3    0.932619    1.052275  ...    2.896575    3.714642    3.909817   \n",
       "4  478.633718  446.000041  ...  493.757330  591.211698  592.605615   \n",
       "\n",
       "       YR2017      YR2018      YR2019      YR2020      YR2021      YR2022  \\\n",
       "0   12.371922    7.808765    7.143640    9.887290    9.971089   31.255895   \n",
       "1    0.685881    0.359409   -1.106863    2.425007    4.091952    5.276167   \n",
       "2    8.005650    4.689806    5.239638    5.405162    6.107936    7.659863   \n",
       "3    4.350533    4.585325    5.217367    5.595708    5.805700    8.272400   \n",
       "4  580.656750  555.446458  585.911013  575.586005  554.530675  623.759701   \n",
       "\n",
       "       YR2023  \n",
       "0   38.106966  \n",
       "1    4.387117  \n",
       "2    7.671396  \n",
       "3   11.020408  \n",
       "4  606.569750  \n",
       "\n",
       "[5 rows x 25 columns]"
      ]
     },
     "execution_count": 8,
     "metadata": {},
     "output_type": "execute_result"
    }
   ],
   "source": [
    "economic_indicators_df = pd.read_csv(ECONOMIC_INDICATORS_PATH)\n",
    "economic_indicators_df.head()"
   ]
  },
  {
   "cell_type": "markdown",
   "id": "de398641-f414-42a2-a7df-a88714ac9258",
   "metadata": {},
   "source": [
    "### Train Data"
   ]
  },
  {
   "cell_type": "code",
   "execution_count": 9,
   "id": "f3e332ad-fbe8-413e-82e2-7449caeec4a6",
   "metadata": {},
   "outputs": [
    {
     "data": {
      "text/html": [
       "<div>\n",
       "<style scoped>\n",
       "    .dataframe tbody tr th:only-of-type {\n",
       "        vertical-align: middle;\n",
       "    }\n",
       "\n",
       "    .dataframe tbody tr th {\n",
       "        vertical-align: top;\n",
       "    }\n",
       "\n",
       "    .dataframe thead th {\n",
       "        text-align: right;\n",
       "    }\n",
       "</style>\n",
       "<table border=\"1\" class=\"dataframe\">\n",
       "  <thead>\n",
       "    <tr style=\"text-align: right;\">\n",
       "      <th></th>\n",
       "      <th>ID</th>\n",
       "      <th>customer_id</th>\n",
       "      <th>country_id</th>\n",
       "      <th>tbl_loan_id</th>\n",
       "      <th>lender_id</th>\n",
       "      <th>loan_type</th>\n",
       "      <th>Total_Amount</th>\n",
       "      <th>Total_Amount_to_Repay</th>\n",
       "      <th>disbursement_date</th>\n",
       "      <th>due_date</th>\n",
       "      <th>duration</th>\n",
       "      <th>New_versus_Repeat</th>\n",
       "      <th>Amount_Funded_By_Lender</th>\n",
       "      <th>Lender_portion_Funded</th>\n",
       "      <th>Lender_portion_to_be_repaid</th>\n",
       "      <th>target</th>\n",
       "    </tr>\n",
       "  </thead>\n",
       "  <tbody>\n",
       "    <tr>\n",
       "      <th>0</th>\n",
       "      <td>ID_266671248032267278</td>\n",
       "      <td>266671</td>\n",
       "      <td>Kenya</td>\n",
       "      <td>248032</td>\n",
       "      <td>267278</td>\n",
       "      <td>Type_1</td>\n",
       "      <td>8448.0</td>\n",
       "      <td>8448.0</td>\n",
       "      <td>2022-08-30</td>\n",
       "      <td>2022-09-06</td>\n",
       "      <td>7</td>\n",
       "      <td>Repeat Loan</td>\n",
       "      <td>120.85</td>\n",
       "      <td>0.014305</td>\n",
       "      <td>121.0</td>\n",
       "      <td>0</td>\n",
       "    </tr>\n",
       "    <tr>\n",
       "      <th>1</th>\n",
       "      <td>ID_248919228515267278</td>\n",
       "      <td>248919</td>\n",
       "      <td>Kenya</td>\n",
       "      <td>228515</td>\n",
       "      <td>267278</td>\n",
       "      <td>Type_1</td>\n",
       "      <td>25895.0</td>\n",
       "      <td>25979.0</td>\n",
       "      <td>2022-07-30</td>\n",
       "      <td>2022-08-06</td>\n",
       "      <td>7</td>\n",
       "      <td>Repeat Loan</td>\n",
       "      <td>7768.50</td>\n",
       "      <td>0.300000</td>\n",
       "      <td>7794.0</td>\n",
       "      <td>0</td>\n",
       "    </tr>\n",
       "    <tr>\n",
       "      <th>2</th>\n",
       "      <td>ID_308486370501251804</td>\n",
       "      <td>308486</td>\n",
       "      <td>Kenya</td>\n",
       "      <td>370501</td>\n",
       "      <td>251804</td>\n",
       "      <td>Type_7</td>\n",
       "      <td>6900.0</td>\n",
       "      <td>7142.0</td>\n",
       "      <td>2024-09-06</td>\n",
       "      <td>2024-09-13</td>\n",
       "      <td>7</td>\n",
       "      <td>Repeat Loan</td>\n",
       "      <td>1380.00</td>\n",
       "      <td>0.200000</td>\n",
       "      <td>1428.0</td>\n",
       "      <td>0</td>\n",
       "    </tr>\n",
       "    <tr>\n",
       "      <th>3</th>\n",
       "      <td>ID_266004285009267278</td>\n",
       "      <td>266004</td>\n",
       "      <td>Kenya</td>\n",
       "      <td>285009</td>\n",
       "      <td>267278</td>\n",
       "      <td>Type_1</td>\n",
       "      <td>8958.0</td>\n",
       "      <td>9233.0</td>\n",
       "      <td>2022-10-20</td>\n",
       "      <td>2022-10-27</td>\n",
       "      <td>7</td>\n",
       "      <td>Repeat Loan</td>\n",
       "      <td>2687.40</td>\n",
       "      <td>0.300000</td>\n",
       "      <td>2770.0</td>\n",
       "      <td>0</td>\n",
       "    </tr>\n",
       "    <tr>\n",
       "      <th>4</th>\n",
       "      <td>ID_253803305312267278</td>\n",
       "      <td>253803</td>\n",
       "      <td>Kenya</td>\n",
       "      <td>305312</td>\n",
       "      <td>267278</td>\n",
       "      <td>Type_1</td>\n",
       "      <td>4564.0</td>\n",
       "      <td>4728.0</td>\n",
       "      <td>2022-11-28</td>\n",
       "      <td>2022-12-05</td>\n",
       "      <td>7</td>\n",
       "      <td>Repeat Loan</td>\n",
       "      <td>1369.20</td>\n",
       "      <td>0.300000</td>\n",
       "      <td>1418.0</td>\n",
       "      <td>0</td>\n",
       "    </tr>\n",
       "  </tbody>\n",
       "</table>\n",
       "</div>"
      ],
      "text/plain": [
       "                      ID  customer_id country_id  tbl_loan_id  lender_id  \\\n",
       "0  ID_266671248032267278       266671      Kenya       248032     267278   \n",
       "1  ID_248919228515267278       248919      Kenya       228515     267278   \n",
       "2  ID_308486370501251804       308486      Kenya       370501     251804   \n",
       "3  ID_266004285009267278       266004      Kenya       285009     267278   \n",
       "4  ID_253803305312267278       253803      Kenya       305312     267278   \n",
       "\n",
       "  loan_type  Total_Amount  Total_Amount_to_Repay disbursement_date  \\\n",
       "0    Type_1        8448.0                 8448.0        2022-08-30   \n",
       "1    Type_1       25895.0                25979.0        2022-07-30   \n",
       "2    Type_7        6900.0                 7142.0        2024-09-06   \n",
       "3    Type_1        8958.0                 9233.0        2022-10-20   \n",
       "4    Type_1        4564.0                 4728.0        2022-11-28   \n",
       "\n",
       "     due_date  duration New_versus_Repeat  Amount_Funded_By_Lender  \\\n",
       "0  2022-09-06         7       Repeat Loan                   120.85   \n",
       "1  2022-08-06         7       Repeat Loan                  7768.50   \n",
       "2  2024-09-13         7       Repeat Loan                  1380.00   \n",
       "3  2022-10-27         7       Repeat Loan                  2687.40   \n",
       "4  2022-12-05         7       Repeat Loan                  1369.20   \n",
       "\n",
       "   Lender_portion_Funded  Lender_portion_to_be_repaid  target  \n",
       "0               0.014305                        121.0       0  \n",
       "1               0.300000                       7794.0       0  \n",
       "2               0.200000                       1428.0       0  \n",
       "3               0.300000                       2770.0       0  \n",
       "4               0.300000                       1418.0       0  "
      ]
     },
     "execution_count": 9,
     "metadata": {},
     "output_type": "execute_result"
    }
   ],
   "source": [
    "train_df = pd.read_csv(TRAIN_PATH)\n",
    "train_df.head()"
   ]
  },
  {
   "cell_type": "code",
   "execution_count": 10,
   "id": "3fd6521c-6cf5-4639-bcaa-c309bd38704a",
   "metadata": {},
   "outputs": [
    {
     "name": "stdout",
     "output_type": "stream",
     "text": [
      "Number of entries: 68654\n",
      "Number of unique applicants 6540\n"
     ]
    }
   ],
   "source": [
    "print(\"Number of entries:\", train_df.shape[0])\n",
    "print(\"Number of unique applicants\", len(train_df.customer_id.unique()))"
   ]
  },
  {
   "cell_type": "markdown",
   "id": "d9ab4452-a5b2-4aa6-a946-07323f9a2722",
   "metadata": {},
   "source": [
    "#### Checking for nulls"
   ]
  },
  {
   "cell_type": "code",
   "execution_count": 11,
   "id": "f6937506-41fa-4401-85ed-9acf03c8c91e",
   "metadata": {},
   "outputs": [
    {
     "data": {
      "text/plain": [
       "ID                             0\n",
       "customer_id                    0\n",
       "country_id                     0\n",
       "tbl_loan_id                    0\n",
       "lender_id                      0\n",
       "loan_type                      0\n",
       "Total_Amount                   0\n",
       "Total_Amount_to_Repay          0\n",
       "disbursement_date              0\n",
       "due_date                       0\n",
       "duration                       0\n",
       "New_versus_Repeat              0\n",
       "Amount_Funded_By_Lender        0\n",
       "Lender_portion_Funded          0\n",
       "Lender_portion_to_be_repaid    0\n",
       "target                         0\n",
       "dtype: int64"
      ]
     },
     "execution_count": 11,
     "metadata": {},
     "output_type": "execute_result"
    }
   ],
   "source": [
    "train_df.isna().sum()"
   ]
  },
  {
   "cell_type": "markdown",
   "id": "d9fdb52e-4a6c-4767-b84a-0f1cd77709bf",
   "metadata": {},
   "source": [
    "## Exploratory Data Analysis\n",
    "\n",
    "- Check if an applicant can default on just some of all their loans ✅\n",
    "- Check balance of target ✅\n",
    "- Check the number of unique lenders ✅\n",
    "- Check the number of loan types ✅\n",
    "- Check distribution of New vs Repeat\n",
    "- Percentages (e.g. % amount funded by lender and so on.)\n",
    "- Compare date with economic indicators\n",
    "- Look into `duration` seems 7 occurs a lot\n",
    "- correlation between features"
   ]
  },
  {
   "cell_type": "markdown",
   "id": "d96c8c85-aa3c-44c4-9918-3b085c9aab3d",
   "metadata": {},
   "source": [
    "#### Checking if an applicant can on only some of their loans\n",
    "\n",
    "If an applicant who defaulted has their id recurring in a non-default then they can default on particular loans.\n",
    "<br/>\n",
    "Steps:\n",
    "- Get all applicants who defaulted\n",
    "- Get all applicants who didn't default\n",
    "- Add number (if number > total number of applicantes, then statment proven)"
   ]
  },
  {
   "cell_type": "markdown",
   "id": "42cf50e7-a8ed-49dc-a442-d2dbdc3e5837",
   "metadata": {},
   "source": [
    "#### Notes\n",
    "- An applicant can default on just `some` loans"
   ]
  },
  {
   "cell_type": "code",
   "execution_count": 12,
   "id": "b8a6f7a4-a905-4a08-9cf2-92ba80eeb347",
   "metadata": {},
   "outputs": [
    {
     "name": "stdout",
     "output_type": "stream",
     "text": [
      "Defaulted Applicants: 1016 \n",
      "Non-Defaultant Applicants: 6158\n",
      "Total: 7174\n",
      "Total applicants: 6540\n"
     ]
    }
   ],
   "source": [
    "## getting all defaulted applicantes\n",
    "num_default = len(train_df.query(\"target==1\")[\"customer_id\"].unique())\n",
    "num_not_default = len(train_df.query(\"target==0\")[\"customer_id\"].unique())\n",
    "\n",
    "print(f\"Defaulted Applicants: {num_default} \")\n",
    "print(f\"Non-Defaultant Applicants: {num_not_default}\")\n",
    "print(f\"Total:\", num_default + num_not_default)\n",
    "print(f\"Total applicants:\", len(train_df[\"customer_id\"].unique()))"
   ]
  },
  {
   "cell_type": "markdown",
   "id": "888c0acd-c04c-42e0-9157-4f4e3e2f3872",
   "metadata": {},
   "source": [
    "#### Checking if there are duplicate loans\n",
    "\n",
    "If there are duplicate loans, then some loan ids would have been repeated in the dataset\n",
    "\n",
    "##### Notes\n",
    "- There are <span style=\"color: red\">repeated loans</span>"
   ]
  },
  {
   "cell_type": "code",
   "execution_count": 13,
   "id": "01d8608a-ab33-4a57-9340-4ded639bdb46",
   "metadata": {},
   "outputs": [
    {
     "data": {
      "text/plain": [
       "False"
      ]
     },
     "execution_count": 13,
     "metadata": {},
     "output_type": "execute_result"
    }
   ],
   "source": [
    "len(train_df[\"tbl_loan_id\"].unique()) == len(train_df)"
   ]
  },
  {
   "cell_type": "markdown",
   "id": "1532fedb-dc30-4016-8a9a-0e2dd90a18b7",
   "metadata": {},
   "source": [
    "#### Checking number of unique lenders"
   ]
  },
  {
   "cell_type": "markdown",
   "id": "4a8e8602-0205-49f4-ab07-0c409864c4c0",
   "metadata": {},
   "source": [
    "There are `4` unique lenders"
   ]
  },
  {
   "cell_type": "code",
   "execution_count": 22,
   "id": "d47b996a-04d1-40da-b75e-9898d2681278",
   "metadata": {},
   "outputs": [
    {
     "data": {
      "text/plain": [
       "lender_id\n",
       "267278    64653\n",
       "251804     3542\n",
       "267277      271\n",
       "245684      188\n",
       "Name: count, dtype: int64"
      ]
     },
     "execution_count": 22,
     "metadata": {},
     "output_type": "execute_result"
    }
   ],
   "source": [
    "train_df[\"lender_id\"].value_counts()"
   ]
  },
  {
   "cell_type": "code",
   "execution_count": 23,
   "id": "9fd05a72-2b2a-4e0f-adce-75d402106d1e",
   "metadata": {},
   "outputs": [
    {
     "name": "stdout",
     "output_type": "stream",
     "text": [
      "Number of unique lenders 4\n"
     ]
    }
   ],
   "source": [
    "print(f\"Number of unique lenders {train_df['lender_id'].nunique()}\")"
   ]
  },
  {
   "cell_type": "markdown",
   "id": "7f96bdfb-68f9-4c93-9260-56f4ae62e8c5",
   "metadata": {},
   "source": [
    "#### Checking number of loan types"
   ]
  },
  {
   "cell_type": "markdown",
   "id": "ccd59b07-b466-4620-a576-fa1182212098",
   "metadata": {},
   "source": [
    "There are `22` loan types"
   ]
  },
  {
   "cell_type": "code",
   "execution_count": 25,
   "id": "797fb2e5-b685-4459-9519-0cf714fee7c3",
   "metadata": {},
   "outputs": [
    {
     "data": {
      "text/plain": [
       "array(['Type_1', 'Type_7', 'Type_5', 'Type_4', 'Type_6', 'Type_14',\n",
       "       'Type_9', 'Type_10', 'Type_19', 'Type_16', 'Type_2', 'Type_11',\n",
       "       'Type_23', 'Type_18', 'Type_17', 'Type_12', 'Type_20', 'Type_13',\n",
       "       'Type_21', 'Type_15', 'Type_24', 'Type_22'], dtype=object)"
      ]
     },
     "execution_count": 25,
     "metadata": {},
     "output_type": "execute_result"
    }
   ],
   "source": [
    "train_df[\"loan_type\"].unique()"
   ]
  },
  {
   "cell_type": "code",
   "execution_count": 27,
   "id": "758bf5ae-021a-458f-9e8f-6914ba749ac0",
   "metadata": {},
   "outputs": [
    {
     "name": "stdout",
     "output_type": "stream",
     "text": [
      "There are 22\n"
     ]
    }
   ],
   "source": [
    "print(f\"There are {train_df.loan_type.nunique()}\")"
   ]
  },
  {
   "cell_type": "markdown",
   "id": "a32c8f50-7b75-42d6-bdbb-8a249b8f5a5a",
   "metadata": {},
   "source": [
    "### Univariate Analysis"
   ]
  },
  {
   "cell_type": "markdown",
   "id": "ff3b7f4a-6bfd-419b-8243-4954374afd4e",
   "metadata": {},
   "source": [
    "Look into:\n",
    "- lender_id (frequency)\n",
    "- loan_type (frequency)"
   ]
  },
  {
   "cell_type": "markdown",
   "id": "957b1887-da5d-4123-bc5f-07be5cdcf07a",
   "metadata": {},
   "source": [
    "#### ID"
   ]
  },
  {
   "cell_type": "code",
   "execution_count": 14,
   "id": "c311bc42-d8bf-448d-acdc-0d0d3c0ba2bd",
   "metadata": {},
   "outputs": [
    {
     "data": {
      "text/plain": [
       "0    ID_266671248032267278\n",
       "1    ID_248919228515267278\n",
       "2    ID_308486370501251804\n",
       "3    ID_266004285009267278\n",
       "4    ID_253803305312267278\n",
       "Name: ID, dtype: object"
      ]
     },
     "execution_count": 14,
     "metadata": {},
     "output_type": "execute_result"
    }
   ],
   "source": [
    "train_df[\"ID\"].head()"
   ]
  },
  {
   "cell_type": "markdown",
   "id": "ee60e934-fc33-426e-a324-f32c53b4e9a2",
   "metadata": {},
   "source": [
    "###### Checking for duplicates\n",
    "\n",
    "###### Notes\n",
    "- There are no duplicate entries"
   ]
  },
  {
   "cell_type": "code",
   "execution_count": 25,
   "id": "33f1d4da-26b1-40e5-9593-e90a151771a8",
   "metadata": {},
   "outputs": [
    {
     "data": {
      "text/plain": [
       "True"
      ]
     },
     "execution_count": 25,
     "metadata": {},
     "output_type": "execute_result"
    }
   ],
   "source": [
    "len(train_df[\"ID\"].unique()) == len(train_df)"
   ]
  },
  {
   "cell_type": "markdown",
   "id": "d2316752-fddf-4f62-87e8-b61348137eb9",
   "metadata": {},
   "source": []
  }
 ],
 "metadata": {
  "kernelspec": {
   "display_name": "Python 3 (ipykernel)",
   "language": "python",
   "name": "python3"
  },
  "language_info": {
   "codemirror_mode": {
    "name": "ipython",
    "version": 3
   },
   "file_extension": ".py",
   "mimetype": "text/x-python",
   "name": "python",
   "nbconvert_exporter": "python",
   "pygments_lexer": "ipython3",
   "version": "3.11.9"
  }
 },
 "nbformat": 4,
 "nbformat_minor": 5
}
