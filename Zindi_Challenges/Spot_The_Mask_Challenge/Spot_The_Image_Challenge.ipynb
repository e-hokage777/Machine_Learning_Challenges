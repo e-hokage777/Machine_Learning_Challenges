{
 "cells": [
  {
   "cell_type": "markdown",
   "id": "a84a194e-fd51-4b27-8de3-e903bc40dbce",
   "metadata": {},
   "source": [
    "## README\n",
    "Dataset can be found [here](https://zindi.africa/competitions/spot-the-mask/data)"
   ]
  },
  {
   "cell_type": "code",
   "execution_count": 187,
   "id": "24ebee9c-88c0-4538-af4d-1977c188bdfa",
   "metadata": {},
   "outputs": [],
   "source": [
    "import numpy as np\n",
    "import pandas as pd\n",
    "import matplotlib.pyplot as plt\n",
    "import torch\n",
    "import torch.nn as nn\n",
    "import torch.nn.functional as F\n",
    "\n",
    "from torch.utils.data import Dataset\n",
    "from torchvision.transforms import transforms\n",
    "from torchvision.io import read_image, ImageReadMode\n",
    "\n",
    "import os\n",
    "import random\n",
    "import math\n",
    "from datetime import datetime\n",
    "from sklearn.metrics import roc_auc_score\n",
    "from sklearn.model_selection import train_test_split"
   ]
  },
  {
   "cell_type": "code",
   "execution_count": 188,
   "id": "1215afa2-e03f-49e1-97d0-3dc078ac038f",
   "metadata": {},
   "outputs": [],
   "source": [
    "## funciton to calculate width and height of convolution layer\n",
    "def conv_out_dim(shape_in, padding=[0,0], dialation=[1,1], kernel_size=[2,2], stride=[1,1]):\n",
    "#     dim = 0\n",
    "    dimensions = []\n",
    "    for dim in range(2):\n",
    "        dimension = (shape_in[dim]+2*padding[dim]-dialation[dim]*(kernel_size[dim]-1)-1)/stride[dim] + 1\n",
    "        dimensions.append(math.floor(dimension))\n",
    "    return np.array(dimensions)\n",
    "\n",
    "\n",
    "def create_train_test_labels_csv(labels_path, train_labels_path=\"train_labels.csv\", test_labels_path=\"test_labels.csv\", test_size=0.3, random_state=None, stratify=None):\n",
    "    labels_df = pd.read_csv(labels_path)\n",
    "\n",
    "    ## checking if stratify needed\n",
    "    if stratify:\n",
    "        train, test = train_test_split(labels_df, shuffle=True, stratify=labels_df[stratify], random_state=random_state)\n",
    "    else:\n",
    "        train, test = train_test_split(labels_df, shuffle=True, random_state=random_state)\n",
    "\n",
    "    ## saving data\n",
    "    train.to_csv(train_labels_path, index=False)\n",
    "    test.to_csv(test_labels_path, index=False)"
   ]
  },
  {
   "cell_type": "code",
   "execution_count": 189,
   "id": "6ca4ae15-e929-495e-bcdf-5136715646e7",
   "metadata": {},
   "outputs": [],
   "source": [
    "## creating training and testing labels\n",
    "train_labels_path=\"data/train_labels.csv\"\n",
    "test_labels_path=\"data/test_labels.csv\"\n",
    "test_size = 0.3\n",
    "random_state = 42\n",
    "stratify=\"target\"\n",
    "\n",
    "create_train_test_labels_csv(\"data/labels.csv\",\n",
    "                             train_labels_path=train_labels_path,\n",
    "                             test_labels_path=test_labels_path,\n",
    "                             test_size=test_size,\n",
    "                             stratify=stratify,\n",
    "                             random_state=random_state\n",
    "                            )"
   ]
  },
  {
   "cell_type": "code",
   "execution_count": 190,
   "id": "9ae592f7-86fb-4c51-bcf0-3991bc19ab9a",
   "metadata": {},
   "outputs": [],
   "source": [
    "# tr = pd.read_csv(train_labels_path)\n",
    "# tr.iloc[0]"
   ]
  },
  {
   "cell_type": "code",
   "execution_count": 191,
   "id": "60670907-c424-40ef-95e8-a0f5de586969",
   "metadata": {},
   "outputs": [],
   "source": [
    "# te = pd.read_csv(test_labels_path)\n",
    "# te.iloc[0]"
   ]
  },
  {
   "cell_type": "code",
   "execution_count": 192,
   "id": "6f848d6c-7c78-45ea-850d-5ffec35e5001",
   "metadata": {},
   "outputs": [],
   "source": [
    "# tr.shape[0] + te.shape[0]"
   ]
  },
  {
   "cell_type": "code",
   "execution_count": 193,
   "id": "9b5fd9e9-2924-4ad4-8c11-9cec769458f0",
   "metadata": {},
   "outputs": [],
   "source": [
    "# tr[\"target\"].value_counts(normalize=True)"
   ]
  },
  {
   "cell_type": "code",
   "execution_count": 194,
   "id": "7ed44c27-7226-42c7-a2c1-bc8bc96ed580",
   "metadata": {},
   "outputs": [],
   "source": [
    "# te[\"target\"].value_counts(normalize=True)"
   ]
  },
  {
   "cell_type": "code",
   "execution_count": 195,
   "id": "82b83803-d474-4e9d-b46c-eafd8c877102",
   "metadata": {},
   "outputs": [],
   "source": [
    "class MaskedFaces(Dataset):\n",
    "    def __init__(self, annotations_file, img_dir, transform=None, target_transform=None):\n",
    "        self.img_labels = pd.read_csv(annotations_file)\n",
    "        self.img_dir = img_dir\n",
    "        self.transform = transform\n",
    "        self.target_transform = target_transform\n",
    "\n",
    "    def __len__(self):\n",
    "        return len(self.img_labels)\n",
    "\n",
    "    def __getitem__(self, idx):\n",
    "        img_path = os.path.join(self.img_dir, self.img_labels.iloc[idx,0])\n",
    "        image = read_image(img_path, mode=ImageReadMode.GRAY)\n",
    "        ## discarding the alpha channels\n",
    "        label = self.img_labels.iloc[idx,1]\n",
    "        if self.transform:\n",
    "            image = self.transform(image)\n",
    "        if self.target_transform:\n",
    "            label = self.target_transform(label)\n",
    "\n",
    "        return image, label"
   ]
  },
  {
   "cell_type": "code",
   "execution_count": 196,
   "id": "f8c9f259-2ce2-4b71-8bdc-9cb498fbd380",
   "metadata": {},
   "outputs": [],
   "source": [
    "# ## preparing to load the images\n",
    "# annotations_file = \"./data/labels.csv\"\n",
    "# img_dir = \"./data/images\"\n",
    "# transform = transforms.Compose([transforms.Resize((100,100), antialias=True), transforms.ConvertImageDtype(torch.float32)])\n",
    "# target_transform = lambda x: torch.tensor(x).type(torch.float32)\n",
    "# dataset = MaskedFaces(annotations_file, img_dir, transform=transform, target_transform=target_transform)\n",
    "\n",
    "img_dir = \"./data/images\"\n",
    "target_transform = lambda x: torch.tensor(x).type(torch.float32)\n",
    "\n",
    "## getting train dataset\n",
    "annotations_file = train_labels_path\n",
    "train_transform = transforms.Compose([\n",
    "    # transforms.RandomCrop(32, padding=4),\n",
    "    transforms.RandomHorizontalFlip(p=0.5),\n",
    "    transforms.RandomAffine(0, translate=(0.1,0.1)),\n",
    "    transforms.Resize((100,100), antialias=True),\n",
    "    transforms.ConvertImageDtype(torch.float32)])\n",
    "train_dataset = MaskedFaces(annotations_file, img_dir, transform=train_transform, target_transform=target_transform)\n",
    "\n",
    "## getting test dataset\n",
    "annotations_file = test_labels_path\n",
    "test_transform = transforms.Compose([transforms.Resize((100,100), antialias=True), transforms.ConvertImageDtype(torch.float32)])\n",
    "test_dataset = MaskedFaces(annotations_file, img_dir, transform=test_transform, target_transform=target_transform)"
   ]
  },
  {
   "cell_type": "code",
   "execution_count": 197,
   "id": "a4d0d162-55e2-44a5-a559-dae153e7220a",
   "metadata": {},
   "outputs": [
    {
     "data": {
      "image/png": "[encoded data removed]",
      "text/plain": [
       "<Figure size 432x288 with 1 Axes>"
      ]
     },
     "metadata": {
      "needs_background": "light"
     },
     "output_type": "display_data"
    }
   ],
   "source": [
    "idx = np.random.randint(len(train_dataset)+1)\n",
    "img = train_dataset[idx][0]\n",
    "label = train_dataset[idx][1]\n",
    "plt.imshow(img.permute(1,2,0), cmap=\"gray\")\n",
    "plt.title(\"Has Mask\" if label else \"No Mask\")\n",
    "plt.show()"
   ]
  },
  {
   "cell_type": "code",
   "execution_count": 198,
   "id": "64c513eb-9c2a-44a0-8f17-071ed7f37bee",
   "metadata": {},
   "outputs": [],
   "source": [
    "# splitting data into train and test\n",
    "# generator = torch.Generator().manual_seed(42)\n",
    "# train_dataset, test_dataset = torch.utils.data.random_split(dataset, [0.7,0.3], generator=generator)"
   ]
  },
  {
   "cell_type": "code",
   "execution_count": 199,
   "id": "bef94de1-67f7-40db-8d03-4cfed466416f",
   "metadata": {},
   "outputs": [],
   "source": [
    "## creating model\n",
    "# class CNN(nn.Module):\n",
    "#     def __init__(self, K):\n",
    "#         super(CNN, self).__init__()\n",
    "\n",
    "#         ## creating convolutional layers\n",
    "#         self.conv = nn.Sequential(nn.Conv2d(1, 32, kernel_size=3, stride=2),\n",
    "#                                   nn.ReLU(),\n",
    "#                                   nn.BatchNorm2d(32),\n",
    "#                                   nn.Conv2d(32, 64, kernel_size=3, stride=2),\n",
    "#                                   nn.ReLU(),\n",
    "#                                   nn.BatchNorm2d(64),\n",
    "#                                   nn.Conv2d(64, 128, kernel_size=3, stride=2),\n",
    "#                                   nn.ReLU(),\n",
    "#                                   nn.BatchNorm2d(128),\n",
    "#                                   nn.Conv2d(128, 256, kernel_size=3, stride=2),\n",
    "#                                   nn.ReLU(),\n",
    "#                                   nn.BatchNorm2d(256)\n",
    "#                                  )\n",
    "\n",
    "#         self.dense = nn.Sequential(\n",
    "#             nn.Dropout(p=0.5),\n",
    "#             nn.Linear(5*5*256, 512),\n",
    "#             nn.ReLU(),\n",
    "#             nn.Dropout(p=0.2),\n",
    "#             nn.Linear(512, K),\n",
    "#             nn.Sigmoid()\n",
    "#             )\n",
    "\n",
    "#     def forward(self, X):\n",
    "#         X = self.conv(X)\n",
    "#         X = X.view(X.shape[0], -1)\n",
    "#         X = self.dense(X)\n",
    "#         return X\n",
    "\n",
    "## TRYING OUT THE `VGG` ARCHITECTURE\n",
    "class CNN(nn.Module):\n",
    "    def __init__(self,K):\n",
    "        super(CNN, self).__init__()\n",
    "\n",
    "        ## using the same concept from VGG here\n",
    "        self.conv1 = nn.Sequential(nn.Conv2d(1, 32, kernel_size=3, padding=1),\n",
    "                                   nn.ReLU(),\n",
    "                                   nn.BatchNorm2d(32),\n",
    "                                   nn.Conv2d(32, 32, kernel_size=3, padding=1),\n",
    "                                   nn.ReLU(),\n",
    "                                   nn.BatchNorm2d(32),\n",
    "                                   nn.MaxPool2d(2),\n",
    "                                  )\n",
    "        \n",
    "        self.conv2 = nn.Sequential(nn.Conv2d(32, 64, kernel_size=3, padding=1),\n",
    "                                   nn.ReLU(),\n",
    "                                   nn.BatchNorm2d(64),\n",
    "                                   nn.Conv2d(64, 64, kernel_size=3, padding=1),\n",
    "                                   nn.ReLU(),\n",
    "                                   nn.BatchNorm2d(64),\n",
    "                                   nn.MaxPool2d(2),\n",
    "                                  )\n",
    "        \n",
    "        self.conv3 = nn.Sequential(nn.Conv2d(64, 128, kernel_size=3, padding=1),\n",
    "                                   nn.ReLU(),\n",
    "                                   nn.BatchNorm2d(128),\n",
    "                                   nn.Conv2d(128, 128, kernel_size=3, padding=1),\n",
    "                                   nn.ReLU(),\n",
    "                                   nn.BatchNorm2d(128),\n",
    "                                   nn.MaxPool2d(2),\n",
    "                                  )\n",
    "    \n",
    "        self.fc1 = nn.Linear(128*12*12,1024)\n",
    "        self.fc2 = nn.Linear(1024, K)\n",
    "\n",
    "    def forward(self, X):\n",
    "        X = self.conv1(X)\n",
    "        X = self.conv2(X)\n",
    "        X = self.conv3(X)\n",
    "        X = X.view(X.size(0), -1)\n",
    "        X = F.dropout(X, p=0.5)\n",
    "        X = F.relu(self.fc1(X))\n",
    "        X = F.dropout(X, p=0.2)\n",
    "        X = self.fc2(X)\n",
    "        X = F.sigmoid(X)\n",
    "\n",
    "        return X"
   ]
  },
  {
   "cell_type": "code",
   "execution_count": 200,
   "id": "bd968898-7858-4834-9acc-63bbe599ee2c",
   "metadata": {},
   "outputs": [],
   "source": [
    "## preparting tools for training\n",
    "model = CNN(1)\n",
    "criterion = nn.BCELoss()\n",
    "optimizer = torch.optim.Adam(model.parameters(), lr=0.0001)"
   ]
  },
  {
   "cell_type": "code",
   "execution_count": 201,
   "id": "7021ad1f-7e88-4dc3-91bf-7bd93059c41c",
   "metadata": {},
   "outputs": [
    {
     "data": {
      "text/plain": [
       "array([100, 100])"
      ]
     },
     "execution_count": 201,
     "metadata": {},
     "output_type": "execute_result"
    }
   ],
   "source": [
    "## determining size of data after convolution\n",
    "# dim = conv_out_dim((100,100), padding=[0,0], dialation=[1,1], kernel_size=[3,3], stride=[2,2])\n",
    "# dim = conv_out_dim(dim,kernel_size=[3,3], stride=[2,2])\n",
    "# dim = conv_out_dim(dim,kernel_size=[3,3], stride=[2,2])\n",
    "# # dim = conv_out_dim(dim,kernel_size=[3,3], stride=[2,2])\n",
    "# dim\n",
    "dim = conv_out_dim((100,100), padding=[1,1], dialation=[1,1], kernel_size=[3,3], stride=[1,1])\n",
    "dim = conv_out_dim(dim,kernel_size=[3,3], stride=[1,1], dialation=[1,1], padding=[1,1])\n",
    "# dim = dim /2\n",
    "# dim = conv_out_dim(dim, padding=[1,1], dialation=[1,1], kernel_size=[3,3], stride=[1,1])\n",
    "# dim = conv_out_dim(dim,kernel_size=[3,3], stride=[1,1])\n",
    "# dim = dim/2\n",
    "# dim = conv_out_dim(dim, padding=[1,1], dialation=[1,1], kernel_size=[3,3], stride=[1,1])\n",
    "# dim = conv_out_dim(dim,kernel_size=[3,3], stride=[1,1])\n",
    "# dim = dim/2\n",
    "dim"
   ]
  },
  {
   "cell_type": "code",
   "execution_count": 202,
   "id": "d61fdb80-10a1-4335-9400-42f3ba8692c5",
   "metadata": {},
   "outputs": [],
   "source": [
    "## creating dataloaders\n",
    "batch_size = 64\n",
    "train_loader = torch.utils.data.DataLoader(train_dataset,\n",
    "                                           batch_size=batch_size,\n",
    "                                           shuffle=True\n",
    "                                          )\n",
    "\n",
    "test_loader = torch.utils.data.DataLoader(test_dataset,\n",
    "                                          batch_size=batch_size,\n",
    "                                           shuffle=False\n",
    "                                          )"
   ]
  },
  {
   "cell_type": "code",
   "execution_count": 203,
   "id": "bb77e831-1054-4b48-8919-64092e0871c7",
   "metadata": {},
   "outputs": [],
   "source": [
    "# dt = test_dataset\n",
    "# tmp = torch.utils.data.DataLoader(dt,\n",
    "#                                            batch_size=len(dt),\n",
    "#                                            shuffle=True\n",
    "#                                           )\n",
    "# _,t = next(iter(tmp))"
   ]
  },
  {
   "cell_type": "code",
   "execution_count": 204,
   "id": "3c6f5d48-0f7a-4659-8953-cfb5818b209e",
   "metadata": {},
   "outputs": [],
   "source": [
    "# t.unique(return_counts=True)[1]/len(dt)"
   ]
  },
  {
   "cell_type": "code",
   "execution_count": 205,
   "id": "0de9f627-ff1f-4fdb-9cf8-8d3518c1f21f",
   "metadata": {},
   "outputs": [],
   "source": [
    "## creating training function\n",
    "def train_model(model, criterion, optimizer, train_loader, test_loader, epochs):\n",
    "    info = {\"train_losses\": [], \"test_losses\":[]}\n",
    "    for it in range(epochs):\n",
    "        time_start = datetime.now()\n",
    "        ## training\n",
    "        model.train()\n",
    "        epoch_losses = []\n",
    "        for inputs, targets in train_loader:\n",
    "            optimizer.zero_grad()\n",
    "            outputs = model(inputs)\n",
    "            loss = criterion(outputs, targets.view(-1,1))\n",
    "            loss.backward()\n",
    "            optimizer.step()\n",
    "            epoch_losses.append(loss.item())\n",
    "\n",
    "        ## adding mean of loss to train losses\n",
    "        info[\"train_losses\"].append(np.mean(epoch_losses))\n",
    "\n",
    "        ## resetting epoch losses\n",
    "        epoch_losses = []\n",
    "\n",
    "        ## testing\n",
    "        model.eval()\n",
    "        for inputs, targets in test_loader:\n",
    "            outputs = model(inputs)\n",
    "            loss = criterion(outputs, targets.view(-1,1))\n",
    "            epoch_losses.append(loss.item())\n",
    "\n",
    "        ## adding mean of loss to test losses\n",
    "        info[\"test_losses\"].append(np.mean(epoch_losses))\n",
    "\n",
    "        ## getting duration of epochs\n",
    "        dt = datetime.now() - time_start\n",
    "        ## printing after epoch\n",
    "        print(f\"Train Loss {info['train_losses'][-1]}, Test Loss {info['test_losses'][-1]}, Duration {dt}\")\n",
    "                                   \n",
    "    return info"
   ]
  },
  {
   "cell_type": "code",
   "execution_count": 206,
   "id": "e5738010-d23d-468d-b687-e879e252a482",
   "metadata": {},
   "outputs": [
    {
     "name": "stdout",
     "output_type": "stream",
     "text": [
      "Train Loss 0.7602474838495255, Test Loss 0.7575919230779012, Duration 0:01:57.070830\n",
      "Train Loss 0.716391310095787, Test Loss 0.7559575935204824, Duration 0:02:01.840478\n",
      "Train Loss 0.6538566574454308, Test Loss 0.7251532872517904, Duration 0:02:01.827001\n",
      "Train Loss 0.6290749739855528, Test Loss 0.6299701631069183, Duration 0:02:24.339809\n",
      "Train Loss 0.6298907026648521, Test Loss 0.5825571666161219, Duration 0:02:30.323527\n",
      "Train Loss 0.5909607540816069, Test Loss 0.5659228960673014, Duration 0:02:27.790224\n",
      "Train Loss 0.5847938153892756, Test Loss 0.543219193816185, Duration 0:02:34.983005\n",
      "Train Loss 0.593853522092104, Test Loss 0.5960019032160441, Duration 0:02:32.060899\n",
      "Train Loss 0.5809352304786444, Test Loss 0.5402173846960068, Duration 0:02:29.591497\n",
      "Train Loss 0.5492715276777744, Test Loss 0.5693912357091904, Duration 0:02:35.113378\n",
      "Train Loss 0.5592944659292698, Test Loss 0.5540621330340704, Duration 0:03:38.704381\n",
      "Train Loss 0.5537645425647497, Test Loss 0.5720483859380087, Duration 0:04:11.556365\n",
      "Train Loss 0.5301410909742117, Test Loss 0.5338054845730463, Duration 0:03:21.501999\n",
      "Train Loss 0.5213454030454159, Test Loss 0.5537431339422861, Duration 0:02:17.121003\n",
      "Train Loss 0.5019777379930019, Test Loss 0.5829738676548004, Duration 0:02:01.441997\n",
      "Train Loss 0.5000027697533369, Test Loss 0.5770316769679388, Duration 0:02:15.987997\n",
      "Train Loss 0.47340268082916737, Test Loss 0.5458794186512629, Duration 0:02:20.367999\n",
      "Train Loss 0.4571622610092163, Test Loss 0.6055070757865906, Duration 0:02:18.003001\n",
      "Train Loss 0.4831355232745409, Test Loss 0.6769577463467916, Duration 0:02:18.222002\n",
      "Train Loss 0.4910329058766365, Test Loss 0.5741553256909052, Duration 0:02:24.314199\n",
      "Train Loss 0.44500172324478626, Test Loss 0.5661519865194956, Duration 0:02:39.814280\n",
      "Train Loss 0.43663050793111324, Test Loss 0.5429454346497854, Duration 0:02:35.177536\n",
      "Train Loss 0.4173225872218609, Test Loss 0.5552147974570593, Duration 0:03:10.644850\n",
      "Train Loss 0.4110146127641201, Test Loss 0.6152070264021555, Duration 0:05:29.231611\n",
      "Train Loss 0.3906544279307127, Test Loss 0.6143739769856135, Duration 0:03:52.404397\n",
      "Train Loss 0.40845429711043835, Test Loss 0.675208737452825, Duration 0:02:26.212078\n",
      "Train Loss 0.387429790571332, Test Loss 0.6220571249723434, Duration 0:02:20.784406\n",
      "Train Loss 0.3643376352265477, Test Loss 0.63356813788414, Duration 0:02:40.076896\n",
      "Train Loss 0.38607021421194077, Test Loss 0.6515569984912872, Duration 0:02:38.411932\n",
      "Train Loss 0.3605322949588299, Test Loss 0.5987767229477564, Duration 0:02:32.438896\n"
     ]
    }
   ],
   "source": [
    "## training model\n",
    "train_info = train_model(model, criterion, optimizer, train_loader, test_loader, 30)"
   ]
  },
  {
   "cell_type": "code",
   "execution_count": 207,
   "id": "ad6cc9f1-58ad-4fbb-b3de-ed367b749e88",
   "metadata": {},
   "outputs": [
    {
     "data": {
      "image/png": "[encoded data removed]",
      "text/plain": [
       "<Figure size 864x432 with 1 Axes>"
      ]
     },
     "metadata": {
      "needs_background": "light"
     },
     "output_type": "display_data"
    }
   ],
   "source": [
    "fig = plt.figure(figsize=(12,6))\n",
    "plt.plot(train_info[\"train_losses\"], label=\"train loss\")\n",
    "plt.plot(train_info[\"test_losses\"], label=\"test loss\")\n",
    "plt.tight_layout()\n",
    "plt.title(\"Plot of Train and Test Losses against Number of iterations\", fontdict={\"size\":14})\n",
    "plt.legend()\n",
    "plt.show()"
   ]
  },
  {
   "cell_type": "code",
   "execution_count": 208,
   "id": "e5da632a-b9eb-490f-884d-df86e1d459fa",
   "metadata": {},
   "outputs": [
    {
     "name": "stdout",
     "output_type": "stream",
     "text": [
      "Train accuracy: 0.8450560652395515, Test Accuracy: 0.7186544342507645\n"
     ]
    }
   ],
   "source": [
    "## getting accuracies\n",
    "test_acc = 0\n",
    "train_acc = 0\n",
    "\n",
    "with torch.no_grad():\n",
    "    model.eval()\n",
    "    \n",
    "    num_correct = 0\n",
    "    total = 0\n",
    "    for inputs, targets in train_loader:\n",
    "        preds = model(inputs)\n",
    "        num_correct += (np.round(preds.numpy().flatten()) == targets.numpy().flatten()).sum()\n",
    "        total += len(targets)\n",
    "    \n",
    "    train_acc = num_correct/total\n",
    "    \n",
    "    num_correct = 0\n",
    "    total = 0\n",
    "    for inputs, targets in test_loader:\n",
    "        preds = model(inputs)\n",
    "        num_correct += (np.round(preds.numpy().flatten()) == targets.numpy().flatten()).sum()\n",
    "        total += len(targets)\n",
    "    \n",
    "    test_acc = num_correct/total\n",
    "    \n",
    "print(f\"Train accuracy: {train_acc}, Test Accuracy: {test_acc}\")"
   ]
  },
  {
   "cell_type": "code",
   "execution_count": 209,
   "id": "91eaba33-cf40-4723-b8b9-a9b23362af48",
   "metadata": {},
   "outputs": [],
   "source": [
    "## getting AUC score of test data\n",
    "def get_auc_score(model, dataloader):\n",
    "    model.eval()\n",
    "    preds = np.array([])\n",
    "    pred_targets = np.array([])\n",
    "    for inputs, targets in dataloader:\n",
    "        preds = np.concatenate([preds, model(inputs).detach().numpy().flatten()])\n",
    "        pred_targets = np.concatenate([pred_targets, targets])\n",
    "\n",
    "    return roc_auc_score(pred_targets, preds)"
   ]
  },
  {
   "cell_type": "code",
   "execution_count": 210,
   "id": "0ff78a98-07b6-4d27-9250-d5b5e56df362",
   "metadata": {},
   "outputs": [
    {
     "name": "stdout",
     "output_type": "stream",
     "text": [
      "AUC Score: 0.8045723265733742\n"
     ]
    }
   ],
   "source": [
    "print(f\"AUC Score: {get_auc_score(model, test_loader)}\")"
   ]
  },
  {
   "cell_type": "code",
   "execution_count": 211,
   "id": "31a04e15-6feb-4d89-a5f4-d5a13963d21e",
   "metadata": {},
   "outputs": [],
   "source": [
    "## getting the prediction dataset\n",
    "annotations_file = \"./data/SampleSubmission.csv\"\n",
    "prediction_dataset = MaskedFaces(annotations_file, img_dir, transform=test_transform, target_transform=target_transform)"
   ]
  },
  {
   "cell_type": "code",
   "execution_count": 212,
   "id": "167d1196-b837-4b71-a6a6-0f3564b27da7",
   "metadata": {},
   "outputs": [],
   "source": [
    "pred_data_loader = torch.utils.data.DataLoader(prediction_dataset,\n",
    "                                               batch_size=len(prediction_dataset),\n",
    "                                               shuffle=False\n",
    "                                              )\n",
    "\n",
    "X_preds, _ = next(iter(pred_data_loader))\n",
    "\n",
    "model.eval()\n",
    "preds = model(X_preds)"
   ]
  },
  {
   "cell_type": "code",
   "execution_count": 213,
   "id": "1e442005-f7ce-47fc-8fa0-8c77cd753630",
   "metadata": {},
   "outputs": [],
   "source": [
    "preds = preds.detach().numpy()"
   ]
  },
  {
   "cell_type": "code",
   "execution_count": 214,
   "id": "50e2463b-25f6-48b1-81ee-9c8191c3898b",
   "metadata": {},
   "outputs": [],
   "source": [
    "## saving predictions\n",
    "# img_labels = pd.read_csv(\"data/SampleSubmission.csv\").iloc[:,0]\n",
    "# pd.DataFrame({\"image\":img_labels.values, \"target\":preds.flatten()}).to_csv(\"submission/submission9.csv\", index=False)"
   ]
  },
  {
   "cell_type": "code",
   "execution_count": null,
   "id": "cf72201e-14bf-4443-bd05-e10f45042e36",
   "metadata": {},
   "outputs": [],
   "source": []
  }
 ],
 "metadata": {
  "kernelspec": {
   "display_name": "Python 3 (ipykernel)",
   "language": "python",
   "name": "python3"
  },
  "language_info": {
   "codemirror_mode": {
    "name": "ipython",
    "version": 3
   },
   "file_extension": ".py",
   "mimetype": "text/x-python",
   "name": "python",
   "nbconvert_exporter": "python",
   "pygments_lexer": "ipython3",
   "version": "3.10.0"
  }
 },
 "nbformat": 4,
 "nbformat_minor": 5
}
